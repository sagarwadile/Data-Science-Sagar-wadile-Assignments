{
 "cells": [
  {
   "cell_type": "code",
   "execution_count": 1,
   "id": "f18d90c4",
   "metadata": {},
   "outputs": [],
   "source": [
    "import pandas as pd\n",
    "import scipy \n",
    "import numpy as np\n",
    "from scipy import stats"
   ]
  },
  {
   "cell_type": "code",
   "execution_count": 2,
   "id": "6d479d65",
   "metadata": {},
   "outputs": [],
   "source": [
    "buy=pd.read_csv(\"D:\\\\BuyerRatio.csv\")"
   ]
  },
  {
   "cell_type": "code",
   "execution_count": 3,
   "id": "f24bbebc",
   "metadata": {},
   "outputs": [
    {
     "name": "stdout",
     "output_type": "stream",
     "text": [
      "<class 'pandas.core.frame.DataFrame'>\n",
      "RangeIndex: 2 entries, 0 to 1\n",
      "Data columns (total 5 columns):\n",
      " #   Column           Non-Null Count  Dtype \n",
      "---  ------           --------------  ----- \n",
      " 0   Observed Values  2 non-null      object\n",
      " 1   East             2 non-null      int64 \n",
      " 2   West             2 non-null      int64 \n",
      " 3   North            2 non-null      int64 \n",
      " 4   South            2 non-null      int64 \n",
      "dtypes: int64(4), object(1)\n",
      "memory usage: 208.0+ bytes\n"
     ]
    }
   ],
   "source": [
    "buy.info()"
   ]
  },
  {
   "cell_type": "code",
   "execution_count": 4,
   "id": "71861269",
   "metadata": {},
   "outputs": [
    {
     "data": {
      "text/html": [
       "<div>\n",
       "<style scoped>\n",
       "    .dataframe tbody tr th:only-of-type {\n",
       "        vertical-align: middle;\n",
       "    }\n",
       "\n",
       "    .dataframe tbody tr th {\n",
       "        vertical-align: top;\n",
       "    }\n",
       "\n",
       "    .dataframe thead th {\n",
       "        text-align: right;\n",
       "    }\n",
       "</style>\n",
       "<table border=\"1\" class=\"dataframe\">\n",
       "  <thead>\n",
       "    <tr style=\"text-align: right;\">\n",
       "      <th></th>\n",
       "      <th>Observed Values</th>\n",
       "      <th>East</th>\n",
       "      <th>West</th>\n",
       "      <th>North</th>\n",
       "      <th>South</th>\n",
       "    </tr>\n",
       "  </thead>\n",
       "  <tbody>\n",
       "    <tr>\n",
       "      <th>0</th>\n",
       "      <td>Males</td>\n",
       "      <td>50</td>\n",
       "      <td>142</td>\n",
       "      <td>131</td>\n",
       "      <td>70</td>\n",
       "    </tr>\n",
       "    <tr>\n",
       "      <th>1</th>\n",
       "      <td>Females</td>\n",
       "      <td>435</td>\n",
       "      <td>1523</td>\n",
       "      <td>1356</td>\n",
       "      <td>750</td>\n",
       "    </tr>\n",
       "  </tbody>\n",
       "</table>\n",
       "</div>"
      ],
      "text/plain": [
       "  Observed Values  East  West  North  South\n",
       "0           Males    50   142    131     70\n",
       "1         Females   435  1523   1356    750"
      ]
     },
     "execution_count": 4,
     "metadata": {},
     "output_type": "execute_result"
    }
   ],
   "source": [
    "buy.head()"
   ]
  },
  {
   "cell_type": "code",
   "execution_count": 5,
   "id": "b85941c2",
   "metadata": {},
   "outputs": [
    {
     "name": "stderr",
     "output_type": "stream",
     "text": [
      "C:\\Users\\swami\\AppData\\Local\\Temp/ipykernel_12496/1808658994.py:1: FutureWarning: Dropping of nuisance columns in DataFrame reductions (with 'numeric_only=None') is deprecated; in a future version this will raise TypeError.  Select only valid columns before calling the reduction.\n",
      "  buy.mean()\n"
     ]
    },
    {
     "data": {
      "text/plain": [
       "East     242.5\n",
       "West     832.5\n",
       "North    743.5\n",
       "South    410.0\n",
       "dtype: float64"
      ]
     },
     "execution_count": 5,
     "metadata": {},
     "output_type": "execute_result"
    }
   ],
   "source": [
    "buy.mean()"
   ]
  },
  {
   "cell_type": "code",
   "execution_count": 6,
   "id": "0444386c",
   "metadata": {},
   "outputs": [
    {
     "name": "stderr",
     "output_type": "stream",
     "text": [
      "C:\\Users\\swami\\AppData\\Local\\Temp/ipykernel_12496/1101623867.py:1: FutureWarning: Dropping of nuisance columns in DataFrame reductions (with 'numeric_only=None') is deprecated; in a future version this will raise TypeError.  Select only valid columns before calling the reduction.\n",
      "  buy.std()\n"
     ]
    },
    {
     "data": {
      "text/plain": [
       "East     272.236111\n",
       "West     976.514465\n",
       "North    866.205807\n",
       "South    480.832611\n",
       "dtype: float64"
      ]
     },
     "execution_count": 6,
     "metadata": {},
     "output_type": "execute_result"
    }
   ],
   "source": [
    "buy.std()"
   ]
  },
  {
   "cell_type": "code",
   "execution_count": 8,
   "id": "b5616a16",
   "metadata": {},
   "outputs": [
    {
     "name": "stderr",
     "output_type": "stream",
     "text": [
      "C:\\Users\\swami\\AppData\\Local\\Temp/ipykernel_12496/4006032921.py:1: FutureWarning: Dropping of nuisance columns in DataFrame reductions (with 'numeric_only=None') is deprecated; in a future version this will raise TypeError.  Select only valid columns before calling the reduction.\n",
      "  buy.var()\n"
     ]
    },
    {
     "data": {
      "text/plain": [
       "East      74112.5\n",
       "West     953580.5\n",
       "North    750312.5\n",
       "South    231200.0\n",
       "dtype: float64"
      ]
     },
     "execution_count": 8,
     "metadata": {},
     "output_type": "execute_result"
    }
   ],
   "source": [
    "buy.var()"
   ]
  },
  {
   "cell_type": "code",
   "execution_count": 9,
   "id": "b24b78bd",
   "metadata": {},
   "outputs": [],
   "source": [
    "# ho=Proportions of Male and Female are same\n",
    "# h1=Proportions of Male and Female are not same"
   ]
  },
  {
   "cell_type": "code",
   "execution_count": 11,
   "id": "c65860bb",
   "metadata": {},
   "outputs": [
    {
     "data": {
      "text/html": [
       "<div>\n",
       "<style scoped>\n",
       "    .dataframe tbody tr th:only-of-type {\n",
       "        vertical-align: middle;\n",
       "    }\n",
       "\n",
       "    .dataframe tbody tr th {\n",
       "        vertical-align: top;\n",
       "    }\n",
       "\n",
       "    .dataframe thead th {\n",
       "        text-align: right;\n",
       "    }\n",
       "</style>\n",
       "<table border=\"1\" class=\"dataframe\">\n",
       "  <thead>\n",
       "    <tr style=\"text-align: right;\">\n",
       "      <th></th>\n",
       "      <th>East</th>\n",
       "      <th>West</th>\n",
       "      <th>North</th>\n",
       "      <th>South</th>\n",
       "    </tr>\n",
       "  </thead>\n",
       "  <tbody>\n",
       "    <tr>\n",
       "      <th>count</th>\n",
       "      <td>2.000000</td>\n",
       "      <td>2.000000</td>\n",
       "      <td>2.000000</td>\n",
       "      <td>2.000000</td>\n",
       "    </tr>\n",
       "    <tr>\n",
       "      <th>mean</th>\n",
       "      <td>242.500000</td>\n",
       "      <td>832.500000</td>\n",
       "      <td>743.500000</td>\n",
       "      <td>410.000000</td>\n",
       "    </tr>\n",
       "    <tr>\n",
       "      <th>std</th>\n",
       "      <td>272.236111</td>\n",
       "      <td>976.514465</td>\n",
       "      <td>866.205807</td>\n",
       "      <td>480.832611</td>\n",
       "    </tr>\n",
       "    <tr>\n",
       "      <th>min</th>\n",
       "      <td>50.000000</td>\n",
       "      <td>142.000000</td>\n",
       "      <td>131.000000</td>\n",
       "      <td>70.000000</td>\n",
       "    </tr>\n",
       "    <tr>\n",
       "      <th>25%</th>\n",
       "      <td>146.250000</td>\n",
       "      <td>487.250000</td>\n",
       "      <td>437.250000</td>\n",
       "      <td>240.000000</td>\n",
       "    </tr>\n",
       "    <tr>\n",
       "      <th>50%</th>\n",
       "      <td>242.500000</td>\n",
       "      <td>832.500000</td>\n",
       "      <td>743.500000</td>\n",
       "      <td>410.000000</td>\n",
       "    </tr>\n",
       "    <tr>\n",
       "      <th>75%</th>\n",
       "      <td>338.750000</td>\n",
       "      <td>1177.750000</td>\n",
       "      <td>1049.750000</td>\n",
       "      <td>580.000000</td>\n",
       "    </tr>\n",
       "    <tr>\n",
       "      <th>max</th>\n",
       "      <td>435.000000</td>\n",
       "      <td>1523.000000</td>\n",
       "      <td>1356.000000</td>\n",
       "      <td>750.000000</td>\n",
       "    </tr>\n",
       "  </tbody>\n",
       "</table>\n",
       "</div>"
      ],
      "text/plain": [
       "             East         West        North       South\n",
       "count    2.000000     2.000000     2.000000    2.000000\n",
       "mean   242.500000   832.500000   743.500000  410.000000\n",
       "std    272.236111   976.514465   866.205807  480.832611\n",
       "min     50.000000   142.000000   131.000000   70.000000\n",
       "25%    146.250000   487.250000   437.250000  240.000000\n",
       "50%    242.500000   832.500000   743.500000  410.000000\n",
       "75%    338.750000  1177.750000  1049.750000  580.000000\n",
       "max    435.000000  1523.000000  1356.000000  750.000000"
      ]
     },
     "execution_count": 11,
     "metadata": {},
     "output_type": "execute_result"
    }
   ],
   "source": [
    "buy.describe()"
   ]
  },
  {
   "cell_type": "code",
   "execution_count": 15,
   "id": "154b79e4",
   "metadata": {},
   "outputs": [
    {
     "data": {
      "text/plain": [
       "('alpha=0.05\\nMale = [50,142,131,70]\\nFemale=[435,1523,1356,750]\\nSales=[Male,Female]\\nprint(Sales)',)"
      ]
     },
     "execution_count": 15,
     "metadata": {},
     "output_type": "execute_result"
    }
   ],
   "source": [
    "\"alpha=0.05\\nMale = [50,142,131,70]\\nFemale=[435,1523,1356,750]\\nSales=[Male,Female]\\nprint(Sales)\","
   ]
  },
  {
   "cell_type": "code",
   "execution_count": 16,
   "id": "2644eec2",
   "metadata": {},
   "outputs": [
    {
     "data": {
      "text/plain": [
       "(\"chiStats = sp.stats.chi2_contingency(Sales)\\nprint('Test t=%f p-value=%f' % (chiStats[0], chiStats[1]))\\nprint('Interpret by p-Value')\\nif chiStats[1] < 0.05:\\n  print('we reject null hypothesis')\\nelse:\\n  print('we accept null hypothesis')\",)"
      ]
     },
     "execution_count": 16,
     "metadata": {},
     "output_type": "execute_result"
    }
   ],
   "source": [
    "\"chiStats = sp.stats.chi2_contingency(Sales)\\nprint('Test t=%f p-value=%f' % (chiStats[0], chiStats[1]))\\nprint('Interpret by p-Value')\\nif chiStats[1] < 0.05:\\n  print('we reject null hypothesis')\\nelse:\\n  print('we accept null hypothesis')\","
   ]
  },
  {
   "cell_type": "code",
   "execution_count": 17,
   "id": "70ec0142",
   "metadata": {},
   "outputs": [
    {
     "data": {
      "text/plain": [
       "(\"#critical value = 0.1\\nalpha = 0.05\\ncritical_value = sp.stats.chi2.ppf(q = 1 - alpha,df=chiStats[2])# Find the critical value for 95% confidence*\\n                      #degree of freedom\\n\\nobserved_chi_val = chiStats[0]\\n#if observed chi-square < critical chi-square, then variables are not related\\n#if observed chi-square > critical chi-square, then variables are not independent (and hence may be related).\\nprint('Interpret by critical value')\\nif observed_chi_val <= critical_value:\\n    # observed value is not in critical area therefore we accept null hypothesis\\n    print ('Null hypothesis cannot be rejected (variables are not related)')\\nelse:\\n    # observed value is in critical area therefore we reject null hypothesis\\n    print ('Null hypothesis cannot be excepted (variables are not independent)')\",)"
      ]
     },
     "execution_count": 17,
     "metadata": {},
     "output_type": "execute_result"
    }
   ],
   "source": [
    "\"#critical value = 0.1\\nalpha = 0.05\\ncritical_value = sp.stats.chi2.ppf(q = 1 - alpha,df=chiStats[2])# Find the critical value for 95% confidence*\\n                      #degree of freedom\\n\\nobserved_chi_val = chiStats[0]\\n#if observed chi-square < critical chi-square, then variables are not related\\n#if observed chi-square > critical chi-square, then variables are not independent (and hence may be related).\\nprint('Interpret by critical value')\\nif observed_chi_val <= critical_value:\\n    # observed value is not in critical area therefore we accept null hypothesis\\n    print ('Null hypothesis cannot be rejected (variables are not related)')\\nelse:\\n    # observed value is in critical area therefore we reject null hypothesis\\n    print ('Null hypothesis cannot be excepted (variables are not independent)')\","
   ]
  },
  {
   "cell_type": "code",
   "execution_count": 18,
   "id": "3d467373",
   "metadata": {},
   "outputs": [
    {
     "data": {
      "text/plain": [
       "'Inference : proportion of male and female across regions is same'"
      ]
     },
     "execution_count": 18,
     "metadata": {},
     "output_type": "execute_result"
    }
   ],
   "source": [
    "\"Inference : proportion of male and female across regions is same\""
   ]
  },
  {
   "cell_type": "code",
   "execution_count": null,
   "id": "72810b6d",
   "metadata": {},
   "outputs": [],
   "source": []
  }
 ],
 "metadata": {
  "kernelspec": {
   "display_name": "Python 3 (ipykernel)",
   "language": "python",
   "name": "python3"
  },
  "language_info": {
   "codemirror_mode": {
    "name": "ipython",
    "version": 3
   },
   "file_extension": ".py",
   "mimetype": "text/x-python",
   "name": "python",
   "nbconvert_exporter": "python",
   "pygments_lexer": "ipython3",
   "version": "3.9.7"
  }
 },
 "nbformat": 4,
 "nbformat_minor": 5
}
